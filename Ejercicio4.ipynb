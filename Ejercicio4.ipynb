{
  "nbformat": 4,
  "nbformat_minor": 0,
  "metadata": {
    "colab": {
      "name": "Ejercicio4.ipynb",
      "provenance": [],
      "authorship_tag": "ABX9TyMjkT+sGCFh2ZbFuppRL6ur",
      "include_colab_link": true
    },
    "kernelspec": {
      "name": "python3",
      "display_name": "Python 3"
    },
    "language_info": {
      "name": "python"
    }
  },
  "cells": [
    {
      "cell_type": "markdown",
      "metadata": {
        "id": "view-in-github",
        "colab_type": "text"
      },
      "source": [
        "<a href=\"https://colab.research.google.com/github/giodp2408/U2T2/blob/main/Ejercicio4.ipynb\" target=\"_parent\"><img src=\"https://colab.research.google.com/assets/colab-badge.svg\" alt=\"Open In Colab\"/></a>"
      ]
    },
    {
      "cell_type": "markdown",
      "metadata": {
        "id": "wH-YaUCStPxX"
      },
      "source": [
        "### **Ejercicio 4.**\n",
        "\n",
        "#### Escribir una función que reciba una muestra de números en una lista y devuelva otra lista con sus cuadrados"
      ]
    },
    {
      "cell_type": "code",
      "metadata": {
        "id": "YzexDVJHlQ7G",
        "colab": {
          "base_uri": "https://localhost:8080/"
        },
        "outputId": "68774698-1228-402c-e8d1-893f74b46b29"
      },
      "source": [
        "#Se crean 3 listas a utilizar en el ejercicio\n",
        "lista1 = [202,433,12,34,55]\n",
        "lista2 = [32,13,123,72]\n",
        "lista3 = [81,11,129,23,65,11]\n",
        "\n",
        "# Se define la función que sacara la media de una lista\n",
        "def cuadrado(lista):\n",
        "  # Se crea una lista que almacenara los cuadrados\n",
        "  nueva_lista = []\n",
        "  # Se utiliza un ciclo FOR que elevara al cuadrado\n",
        "  # cada elemento de las lista \n",
        "  for cont in lista:\n",
        "      nueva_lista.append(cont**2)\n",
        "  return nueva_lista\n",
        "\n",
        "# Se imprime el resultado de las 3 listas definidas\n",
        "print(\"Los cuadrados de la lista 1 es: \" + str(cuadrado(lista1)))\n",
        "print(\"Los cuadrados de la lista 2 es: \" + str(cuadrado(lista2)))\n",
        "print(\"Los cuadrados de la lista 3 es: \" + str(cuadrado(lista3)))"
      ],
      "execution_count": 8,
      "outputs": [
        {
          "output_type": "stream",
          "text": [
            "Los cuadrados de la lista 1 es: [40804, 187489, 144, 1156, 3025]\n",
            "Los cuadrados de la lista 2 es: [1024, 169, 15129, 5184]\n",
            "Los cuadrados de la lista 3 es: [6561, 121, 16641, 529, 4225, 121]\n"
          ],
          "name": "stdout"
        }
      ]
    }
  ]
}