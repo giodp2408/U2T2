{
  "nbformat": 4,
  "nbformat_minor": 0,
  "metadata": {
    "colab": {
      "name": "Ejercicio6.ipynb",
      "provenance": [],
      "collapsed_sections": [],
      "authorship_tag": "ABX9TyOsMUV73UR9Krv5YMc2rX6l",
      "include_colab_link": true
    },
    "kernelspec": {
      "name": "python3",
      "display_name": "Python 3"
    },
    "language_info": {
      "name": "python"
    }
  },
  "cells": [
    {
      "cell_type": "markdown",
      "metadata": {
        "id": "view-in-github",
        "colab_type": "text"
      },
      "source": [
        "<a href=\"https://colab.research.google.com/github/giodp2408/U2T2/blob/main/Ejercicio6.ipynb\" target=\"_parent\"><img src=\"https://colab.research.google.com/assets/colab-badge.svg\" alt=\"Open In Colab\"/></a>"
      ]
    },
    {
      "cell_type": "markdown",
      "metadata": {
        "id": "hklyhGHR5616"
      },
      "source": [
        "### **Ejercicio 6.**\n",
        "\n",
        "#### Escribir una función que calcule el máximo común divisor de dos números y otra que calcule el mínimo común múltiplo."
      ]
    },
    {
      "cell_type": "code",
      "metadata": {
        "colab": {
          "base_uri": "https://localhost:8080/"
        },
        "id": "Y_7smpmw568I",
        "outputId": "27f21954-d37d-4289-8afc-e2059b9c7181"
      },
      "source": [
        "# Se define los 2 numeros a utilizar\n",
        "var1 = 360\n",
        "var2 = 420\n",
        "\n",
        "# Se define la función que calcule el maximo comun divisor\n",
        "def mcd(num1,num2):\n",
        "  while num2 != 0:\n",
        "      temp = num2\n",
        "      num2 = num1 % num2\n",
        "      num1 = temp\n",
        "      resul = num1\n",
        "  return resul\n",
        "\n",
        "# Se define la función que calcule el minimo comun multiplo\n",
        "def mcm(num1, num2):\n",
        "    resul = (num1 * num2) / mcd(num1, num2)\n",
        "    return resul\n",
        "\n",
        "# Se imprime el resultado del MCD y MCM\n",
        "print(\"El maximo comun divisor es: \",mcd(var1,var2))\n",
        "print(\"El minimo comun multiplo es: \",mcm(var1,var2))"
      ],
      "execution_count": 18,
      "outputs": [
        {
          "output_type": "stream",
          "text": [
            "El maximo comun divisor es:  60\n",
            "El minimo comun multiplo es:  2520.0\n"
          ],
          "name": "stdout"
        }
      ]
    }
  ]
}