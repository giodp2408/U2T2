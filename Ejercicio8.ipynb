{
  "nbformat": 4,
  "nbformat_minor": 0,
  "metadata": {
    "colab": {
      "name": "Ejercicio8.ipynb",
      "provenance": [],
      "collapsed_sections": [],
      "authorship_tag": "ABX9TyN9xmUTb2AzKRWqH6+NKndT",
      "include_colab_link": true
    },
    "kernelspec": {
      "name": "python3",
      "display_name": "Python 3"
    },
    "language_info": {
      "name": "python"
    }
  },
  "cells": [
    {
      "cell_type": "markdown",
      "metadata": {
        "id": "view-in-github",
        "colab_type": "text"
      },
      "source": [
        "<a href=\"https://colab.research.google.com/github/giodp2408/U2T2/blob/main/Ejercicio8.ipynb\" target=\"_parent\"><img src=\"https://colab.research.google.com/assets/colab-badge.svg\" alt=\"Open In Colab\"/></a>"
      ]
    },
    {
      "cell_type": "markdown",
      "metadata": {
        "id": "u8KZVfaUYIVK"
      },
      "source": [
        "### **Ejercicio 8.**\n",
        "\n",
        "#### Escribir un programa que reciba una cadena de caracteres y devuelva un diccionario con cada palabra que contiene y su frecuencia. Escribir otra función que reciba el diccionario generado con la función anterior y devuelva una tupla con la palabra más repetida y su frecuencia."
      ]
    },
    {
      "cell_type": "code",
      "metadata": {
        "colab": {
          "base_uri": "https://localhost:8080/"
        },
        "id": "TGv8CSYlYIig",
        "outputId": "861ad4a7-c6d1-4e86-acf5-24cca543abda"
      },
      "source": [
        "# Se definen las variables, se puede modificar el contenido\n",
        "texto = \"tres tristes tigres tragaban trigo en un trigal en tres tristes trastos tragaban trigo tres tristes tigres.\"\n",
        "\n",
        "# Se define la función del diccionario que almacena palabras y su frecuencia\n",
        "def dicc(text):\n",
        "    text = text.split()\n",
        "    words = {}\n",
        "    for i in text:\n",
        "        if i in words:\n",
        "            words[i] += 1\n",
        "        else:\n",
        "            words[i] = 1\n",
        "    return words\n",
        "\n",
        "# Se define la función de la tupla que almacena la palabra mas frecuente\n",
        "def tupla(words):\n",
        "    max_word = ''\n",
        "    max_freq = 0\n",
        "    for word, freq in words.items():\n",
        "        if freq > max_freq:\n",
        "            max_word = word\n",
        "            max_freq = freq\n",
        "    return max_word, max_freq\n",
        "\n",
        "# Se imprime el diccionario\n",
        "print(\"El diccionario es: \", dicc(texto))\n",
        "# Se imprime la tupla\n",
        "print(\"La tupla es: \", tupla(dicc(texto)))"
      ],
      "execution_count": 19,
      "outputs": [
        {
          "output_type": "stream",
          "text": [
            "El diccionario es:  {'tres': 3, 'tristes': 3, 'tigres': 1, 'tragaban': 2, 'trigo': 2, 'en': 2, 'un': 1, 'trigal': 1, 'trastos': 1, 'tigres.': 1}\n",
            "La tupla es:  ('tres', 3)\n"
          ],
          "name": "stdout"
        }
      ]
    }
  ]
}