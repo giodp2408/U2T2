{
  "nbformat": 4,
  "nbformat_minor": 0,
  "metadata": {
    "colab": {
      "name": "Ejercicio8.ipynb",
      "provenance": [],
      "collapsed_sections": [],
      "authorship_tag": "ABX9TyPb40ngG8wg3xYR8E8uWRWj",
      "include_colab_link": true
    },
    "kernelspec": {
      "name": "python3",
      "display_name": "Python 3"
    },
    "language_info": {
      "name": "python"
    }
  },
  "cells": [
    {
      "cell_type": "markdown",
      "metadata": {
        "id": "view-in-github",
        "colab_type": "text"
      },
      "source": [
        "<a href=\"https://colab.research.google.com/github/giodp2408/U2T2/blob/main/Ejercicio8.ipynb\" target=\"_parent\"><img src=\"https://colab.research.google.com/assets/colab-badge.svg\" alt=\"Open In Colab\"/></a>"
      ]
    },
    {
      "cell_type": "markdown",
      "metadata": {
        "id": "u8KZVfaUYIVK"
      },
      "source": [
        "### **Ejercicio 8.**\n",
        "\n",
        "#### Escribir un programa que reciba una cadena de caracteres y devuelva un diccionario con cada palabra que contiene y su frecuencia. Escribir otra función que reciba el diccionario generado con la función anterior y devuelva una tupla con la palabra más repetida y su frecuencia."
      ]
    },
    {
      "cell_type": "code",
      "metadata": {
        "colab": {
          "base_uri": "https://localhost:8080/"
        },
        "id": "TGv8CSYlYIig",
        "outputId": "448116d6-7c3d-49bb-bf78-3591085d5e69"
      },
      "source": [
        "# Se definen las variables, se puede modificar el contenido\n",
        "texto = \"Tres tristes tigres, tragaban trigo en un trigal en tres tristes trastos tragaban trigo tres tristes tigres.\"\n",
        "\n",
        "# Se define la función del diccionario que almacena palabras y su frecuencia\n",
        "def dicc(texto):\n",
        "    texto = texto.split()\n",
        "    palabra = {}\n",
        "    for var in palabra:\n",
        "        if var in palabra:\n",
        "            palabra[var] += 1\n",
        "        else:\n",
        "            palabra[var] = 1\n",
        "    return palabra\n",
        "\n",
        "# Se define la función de la tupla que almacena la palabra mas frecuente\n",
        "def tupla(palabra):\n",
        "    palan1 = ''\n",
        "    frecn1 = 0\n",
        "    for var, frec in palabra.items():\n",
        "        if frec > frecn1:\n",
        "            palan1 = palabra\n",
        "            frecn1 = frec\n",
        "    return palan1, frecn1\n",
        "\n",
        "# Se imprime el diccionario\n",
        "print(\"El diccionario es: \", count_words(texto))\n",
        "# Se imprime la tupla\n",
        "print(\"La tupla es: \", most_repeated(count_words(texto)))"
      ],
      "execution_count": 12,
      "outputs": [
        {
          "output_type": "stream",
          "text": [
            "El diccionario es:  {'Tres': 1, 'tristes': 3, 'tigres,': 1, 'tragaban': 2, 'trigo': 2, 'en': 2, 'un': 1, 'trigal': 1, 'tres': 2, 'trastos': 1, 'tigres.': 1}\n",
            "La tupla es:  ('tristes', 3)\n"
          ],
          "name": "stdout"
        }
      ]
    }
  ]
}