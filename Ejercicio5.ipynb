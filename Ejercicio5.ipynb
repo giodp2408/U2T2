{
  "nbformat": 4,
  "nbformat_minor": 0,
  "metadata": {
    "colab": {
      "name": "Ejercicio5.ipynb",
      "provenance": [],
      "collapsed_sections": [],
      "authorship_tag": "ABX9TyPLec69wJYbNVvA8U7BKYM2",
      "include_colab_link": true
    },
    "kernelspec": {
      "name": "python3",
      "display_name": "Python 3"
    },
    "language_info": {
      "name": "python"
    }
  },
  "cells": [
    {
      "cell_type": "markdown",
      "metadata": {
        "id": "view-in-github",
        "colab_type": "text"
      },
      "source": [
        "<a href=\"https://colab.research.google.com/github/giodp2408/U2T2/blob/main/Ejercicio5.ipynb\" target=\"_parent\"><img src=\"https://colab.research.google.com/assets/colab-badge.svg\" alt=\"Open In Colab\"/></a>"
      ]
    },
    {
      "cell_type": "markdown",
      "metadata": {
        "id": "VRL7NxWfxI5H"
      },
      "source": [
        "### **Ejercicio 5.**\n",
        "\n",
        "#### Escribir una función que reciba una muestra de números en una lista y devuelva un diccionario con su media, varianza y desviación típica."
      ]
    },
    {
      "cell_type": "code",
      "metadata": {
        "colab": {
          "base_uri": "https://localhost:8080/"
        },
        "id": "028ciTbmxJDO",
        "outputId": "dc355a22-904c-4449-d7ac-3315dc6ed5f7"
      },
      "source": [
        "#Se crean 3 listas a utilizar en el ejercicio\n",
        "lista1 = [331,222,93,11,58]\n",
        "lista2 = [32,13,123,72]\n",
        "lista3 = [81,11,129,23,65,11]\n",
        "\n",
        "# Se define la función que creara el diccionario con lo que se requiere\n",
        "def med_var_desv(lista):\n",
        "  \n",
        "  # Se crea un diccionario de la media, varianza y desviación\n",
        "  dicc = {}\n",
        "\n",
        "  # Se obtiene la media y se almacena en el diccionario\n",
        "  dicc['Media'] = sum(lista) / len(lista)\n",
        "\n",
        "  # Se obtiene la varianza y se almacena en el diccionario\n",
        "    # Se crea una lista que almacenara los cuadrados\n",
        "    # De esta manera sera mas facil obtener la varianza\n",
        "  cuadrado = []\n",
        "  for cont in lista:\n",
        "      cuadrado.append(cont**2)\n",
        "\n",
        "  dicc['Varianza'] = (sum(cuadrado) / len(lista)) - dicc['Media']**2\n",
        "\n",
        "  # Se obtiene la desviación y se almacena en el diccionario\n",
        "  dicc['Desviacion tipica'] = dicc['Varianza']**0.5\n",
        "\n",
        "  # Se utiliza Round() para redondear los resultados a 2 decimales\n",
        "  dicc['Media'] = round(dicc['Media'],2)\n",
        "  dicc['Varianza'] = round(dicc['Varianza'],2)\n",
        "  dicc['Desviacion tipica'] = round(dicc['Desviacion tipica'],2)\n",
        "  return dicc\n",
        "\n",
        "# Se imprime el resultado de las 3 listas definidas\n",
        "print(\"El diccionario de la lista 1 es: \" + str(med_var_desv(lista1)))\n",
        "print(\"El diccionario de la lista 2 es: \" + str(med_var_desv(lista2)))\n",
        "print(\"El diccionario de la lista 3 es: \" + str(med_var_desv(lista3)))"
      ],
      "execution_count": 16,
      "outputs": [
        {
          "output_type": "stream",
          "text": [
            "El diccionario de la lista 1 es: {'Media': 143.0, 'Varianza': 13746.8, 'Desviacion tipica': 117.25}\n",
            "El diccionario de la lista 2 es: {'Media': 60.0, 'Varianza': 1776.5, 'Desviacion tipica': 42.15}\n",
            "El diccionario de la lista 3 es: {'Media': 53.33, 'Varianza': 1855.22, 'Desviacion tipica': 43.07}\n"
          ],
          "name": "stdout"
        }
      ]
    }
  ]
}