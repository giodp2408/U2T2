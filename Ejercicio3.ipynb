{
  "nbformat": 4,
  "nbformat_minor": 0,
  "metadata": {
    "colab": {
      "name": "Ejercicio3.ipynb",
      "provenance": [],
      "collapsed_sections": [],
      "authorship_tag": "ABX9TyO7+2Hzpk60XpGV2PBoRQun",
      "include_colab_link": true
    },
    "kernelspec": {
      "name": "python3",
      "display_name": "Python 3"
    },
    "language_info": {
      "name": "python"
    }
  },
  "cells": [
    {
      "cell_type": "markdown",
      "metadata": {
        "id": "view-in-github",
        "colab_type": "text"
      },
      "source": [
        "<a href=\"https://colab.research.google.com/github/giodp2408/U2T2/blob/main/Ejercicio3.ipynb\" target=\"_parent\"><img src=\"https://colab.research.google.com/assets/colab-badge.svg\" alt=\"Open In Colab\"/></a>"
      ]
    },
    {
      "cell_type": "markdown",
      "metadata": {
        "id": "BawYNz2ApsB3"
      },
      "source": [
        "### **Ejercicio 3.**\n",
        "\n",
        "#### Escribir una función que reciba una muestra de números en una lista y devuelva su media."
      ]
    },
    {
      "cell_type": "code",
      "metadata": {
        "id": "YzexDVJHlQ7G",
        "colab": {
          "base_uri": "https://localhost:8080/"
        },
        "outputId": "aaa19a95-d581-4e19-8739-522a0ea4710e"
      },
      "source": [
        "#Se crean 3 listas a utilizar en el ejercicio\n",
        "lista1 = [202,433,12,34,55]\n",
        "lista2 = [32,13,123,72]\n",
        "lista3 = [81,11,129,23,65,11]\n",
        "\n",
        "# Se define la función que sacara la media de una lista\n",
        "def media(lista):\n",
        "  # Se realiza la operación:\n",
        "    # Len() obtiene la cantidad de elementos de la lista\n",
        "    # Sum() suma todos los elementos\n",
        "  resul = sum(lista) / len(lista)\n",
        "  return resul\n",
        "\n",
        "# Se imprime el resultado de las 3 listas definidas\n",
        "print(\"La media de la lista 1 es: \" + str(media(lista1)))\n",
        "print(\"La media de la lista 2 es: \" + str(media(lista2)))\n",
        "print(\"La media de la lista 3 es: \" + str(media(lista3)))"
      ],
      "execution_count": 10,
      "outputs": [
        {
          "output_type": "stream",
          "text": [
            "La media de la lista 1 es: 147.2\n",
            "La media de la lista 2 es: 60.0\n",
            "La media de la lista 3 es: 53.333333333333336\n"
          ],
          "name": "stdout"
        }
      ]
    }
  ]
}