{
  "nbformat": 4,
  "nbformat_minor": 0,
  "metadata": {
    "colab": {
      "name": "Ejercicio7.ipynb",
      "provenance": [],
      "collapsed_sections": [],
      "authorship_tag": "ABX9TyN0dbTAwj6e1JUUNLDuPWfK",
      "include_colab_link": true
    },
    "kernelspec": {
      "name": "python3",
      "display_name": "Python 3"
    },
    "language_info": {
      "name": "python"
    }
  },
  "cells": [
    {
      "cell_type": "markdown",
      "metadata": {
        "id": "view-in-github",
        "colab_type": "text"
      },
      "source": [
        "<a href=\"https://colab.research.google.com/github/giodp2408/U2T2/blob/main/Ejercicio7.ipynb\" target=\"_parent\"><img src=\"https://colab.research.google.com/assets/colab-badge.svg\" alt=\"Open In Colab\"/></a>"
      ]
    },
    {
      "cell_type": "markdown",
      "metadata": {
        "id": "VVjNJ9zvFU92"
      },
      "source": [
        "### **Ejercicio 7.**\n",
        "\n",
        "#### Escribir una función que convierta un número decimal en binario y otra que convierta un número binario en decimal."
      ]
    },
    {
      "cell_type": "code",
      "metadata": {
        "colab": {
          "base_uri": "https://localhost:8080/"
        },
        "id": "Ado6EeaSFVGV",
        "outputId": "610ed26a-04e7-4e8a-fe49-fc5d88f3b7ca"
      },
      "source": [
        "# Se define dos variables: un numero decimal y un numero binario\n",
        "# Se puede modificar \n",
        "decimal = 39\n",
        "binario = 100111\n",
        "\n",
        "# Se define función que convierte decimal a binario\n",
        "def decbin(dec):\n",
        "  # Se define un acumulador\n",
        "  temp = \"\"\n",
        "  # Se realiza la conversión\n",
        "  while dec != 0:\n",
        "    temp = str(dec % 2) + temp\n",
        "    # No devuelve ni un residuo ni redondea\n",
        "    dec = dec // 2\n",
        "  return temp\n",
        "\n",
        "# Se define función que convierte binario a decimal\n",
        "def bindec(bin):\n",
        "  # Se define un contador y dos acumuladores\n",
        "  cont = 0\n",
        "  temp = 0\n",
        "  bintemp = \"\"\n",
        "\n",
        "  # Se define un ciclo FOR que invertira el numero binario\n",
        "  # Esto servira para la conversión\n",
        "  # El resultado se almacena en el acumulador \"bintemp\"\n",
        "  for carac in str(bin):\n",
        "    bintemp =  carac + bintemp\n",
        "\n",
        "  # Se define un ciclo FOR que tomara cada carecter del \"bintemp\"\n",
        "  for carac in str(bintemp):\n",
        "    # Si el carecter es igual a 1 entonces elevara a la potencia de\n",
        "    # acuerdo al contador\n",
        "    if carac == \"1\":\n",
        "      # El resultado se almacena en el acumulador \"temp\"\n",
        "      temp = temp + (2**cont)\n",
        "    cont = cont + 1\n",
        "  \n",
        "  return temp\n",
        "\n",
        "# Se muestra el resultado de la conversión de decimal a binario\n",
        "print(\"El resultado de decimal a binario es: \", decbin(decimal))\n",
        "# Se muestra el resultado de la conversión de binario a decimal\n",
        "print(\"El resultado de binario a decimal es: \", bindec(binario))"
      ],
      "execution_count": 84,
      "outputs": [
        {
          "output_type": "stream",
          "text": [
            "El resultado de decimal a binario es:  100111\n",
            "El resultado de binario a decimal es:  39\n"
          ],
          "name": "stdout"
        }
      ]
    }
  ]
}