{
  "nbformat": 4,
  "nbformat_minor": 0,
  "metadata": {
    "colab": {
      "name": "Ejercicio1.ipynb",
      "provenance": [],
      "collapsed_sections": [],
      "authorship_tag": "ABX9TyP+hi2ZXm9WZHgJXGf2lLiB",
      "include_colab_link": true
    },
    "kernelspec": {
      "name": "python3",
      "display_name": "Python 3"
    },
    "language_info": {
      "name": "python"
    }
  },
  "cells": [
    {
      "cell_type": "markdown",
      "metadata": {
        "id": "view-in-github",
        "colab_type": "text"
      },
      "source": [
        "<a href=\"https://colab.research.google.com/github/giodp2408/U2T2/blob/main/Ejercicio1.ipynb\" target=\"_parent\"><img src=\"https://colab.research.google.com/assets/colab-badge.svg\" alt=\"Open In Colab\"/></a>"
      ]
    },
    {
      "cell_type": "markdown",
      "metadata": {
        "id": "p8_mtvxkVpsZ"
      },
      "source": [
        "### **Ejercicio 1.**\n",
        "\n",
        "#### Escribir una función que calcule el total de una factura tras aplicarle el IVA. La función debe recibir la cantidad sin IVA y el porcentaje de IVA a aplicar, y devolver el total de la factura. Si se invoca la función sin pasarle el porcentaje de IVA, deberá aplicar un 21%."
      ]
    },
    {
      "cell_type": "code",
      "metadata": {
        "colab": {
          "base_uri": "https://localhost:8080/"
        },
        "id": "rIDSeiXAVqC4",
        "outputId": "a5e05510-64f7-4f16-ba88-96e4856674ed"
      },
      "source": [
        "# Se define la función que realiza la factura\n",
        "def iva(monto, porc = 21):\n",
        "    #Se realiza la operación\n",
        "    resul = monto + (monto*(porc/100))\n",
        "    return resul\n",
        "\n",
        "# Se imprime el resultado sin pasar el IVA\n",
        "print(\"La factura sin un IVA definido es: \" + str(iva(5000)))\n",
        "\n",
        "# Se imprime el resultado pasandole el IVA\n",
        "print(\"La factura con un IVA definido es: \" + str(iva(5000,40)))"
      ],
      "execution_count": 21,
      "outputs": [
        {
          "output_type": "stream",
          "text": [
            "La factura sin un IVA definido es: 6050.0\n",
            "La factura con un IVA definido es: 7000.0\n"
          ],
          "name": "stdout"
        }
      ]
    }
  ]
}