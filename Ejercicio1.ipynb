{
  "nbformat": 4,
  "nbformat_minor": 0,
  "metadata": {
    "colab": {
      "name": "Ejercicio1.ipynb",
      "provenance": [],
      "collapsed_sections": [],
      "authorship_tag": "ABX9TyOWvnOQlPNArwfNtHHeQJFQ",
      "include_colab_link": true
    },
    "kernelspec": {
      "name": "python3",
      "display_name": "Python 3"
    },
    "language_info": {
      "name": "python"
    }
  },
  "cells": [
    {
      "cell_type": "markdown",
      "metadata": {
        "id": "view-in-github",
        "colab_type": "text"
      },
      "source": [
        "<a href=\"https://colab.research.google.com/github/giodp2408/U2T2/blob/main/Ejercicio1.ipynb\" target=\"_parent\"><img src=\"https://colab.research.google.com/assets/colab-badge.svg\" alt=\"Open In Colab\"/></a>"
      ]
    },
    {
      "cell_type": "markdown",
      "metadata": {
        "id": "p8_mtvxkVpsZ"
      },
      "source": [
        "## **Ejercicio 1.**\n",
        "\n",
        "#### Escribir una función que calcule el total de una factura tras aplicarle el IVA. La función debe recibir la cantidad sin IVA y el porcentaje de IVA a aplicar, y devolver el total de la factura. Si se invoca la función sin pasarle el porcentaje de IVA, deberá aplicar un 21%."
      ]
    },
    {
      "cell_type": "markdown",
      "metadata": {
        "id": "-0t92sqKh65E"
      },
      "source": [
        "##### SIN PASARLE EL IVA"
      ]
    },
    {
      "cell_type": "code",
      "metadata": {
        "colab": {
          "base_uri": "https://localhost:8080/"
        },
        "id": "rIDSeiXAVqC4",
        "outputId": "0360dad9-713b-432b-cf6e-078ff0ce53fb"
      },
      "source": [
        "# Se pregunta la cantidad de monto\n",
        "monto = float(input(\"¿Cuanto es el monto? \"))\n",
        "\n",
        "# Se pregunta el porcentaje de IVA\n",
        "# Si no se responde, por defecto se queda como 21\n",
        "try:\n",
        "    porc = float(input(\"¿Cuanto es el porcentaje? \"))\n",
        "except:\n",
        "    porc = 21\n",
        "\n",
        "# Se define la función que realiza la factura\n",
        "def iva(monto, porc):\n",
        "    resul = monto + (monto*(porc/100))\n",
        "    return resul\n",
        "\n",
        "# Se imprime el resultado\n",
        "print(\"La factura es: \" + str(iva(monto,porc)))"
      ],
      "execution_count": 18,
      "outputs": [
        {
          "output_type": "stream",
          "text": [
            "¿Cuanto es el monto? 2000\n",
            "¿Cuanto es el porcentaje? \n",
            "La factura es: 2420.0\n"
          ],
          "name": "stdout"
        }
      ]
    },
    {
      "cell_type": "markdown",
      "metadata": {
        "id": "xoBlgYFDhwlT"
      },
      "source": [
        "##### CON IVA"
      ]
    },
    {
      "cell_type": "code",
      "metadata": {
        "colab": {
          "base_uri": "https://localhost:8080/"
        },
        "id": "JhsMEzPAhxAf",
        "outputId": "6013dfd6-dd4d-4fe1-c603-76d14f7399fc"
      },
      "source": [
        "# Se pregunta la cantidad de monto\n",
        "monto = float(input(\"¿Cuanto es el monto? \"))\n",
        "\n",
        "# Se pregunta el porcentaje de IVA\n",
        "# Si no se responde, por defecto se queda como 21\n",
        "try:\n",
        "    porc = float(input(\"¿Cuanto es el porcentaje? \"))\n",
        "except:\n",
        "    porc = 21\n",
        "\n",
        "# Se define la función que realiza la factura\n",
        "def iva(monto, porc):\n",
        "    resul = monto + (monto*(porc/100))\n",
        "    return resul\n",
        "\n",
        "# Se imprime el resultado\n",
        "print(\"La factura es: \" + str(iva(monto,porc)))"
      ],
      "execution_count": 19,
      "outputs": [
        {
          "output_type": "stream",
          "text": [
            "¿Cuanto es el monto? 2000\n",
            "¿Cuanto es el porcentaje? 30\n",
            "La factura es: 2600.0\n"
          ],
          "name": "stdout"
        }
      ]
    }
  ]
}