{
  "nbformat": 4,
  "nbformat_minor": 0,
  "metadata": {
    "colab": {
      "name": "Ejercicio2.ipynb",
      "provenance": [],
      "collapsed_sections": [],
      "authorship_tag": "ABX9TyPa+Yq8XKAdMF2jbwg0GiUN",
      "include_colab_link": true
    },
    "kernelspec": {
      "name": "python3",
      "display_name": "Python 3"
    },
    "language_info": {
      "name": "python"
    }
  },
  "cells": [
    {
      "cell_type": "markdown",
      "metadata": {
        "id": "view-in-github",
        "colab_type": "text"
      },
      "source": [
        "<a href=\"https://colab.research.google.com/github/giodp2408/U2T2/blob/main/Ejercicio2.ipynb\" target=\"_parent\"><img src=\"https://colab.research.google.com/assets/colab-badge.svg\" alt=\"Open In Colab\"/></a>"
      ]
    },
    {
      "cell_type": "markdown",
      "metadata": {
        "id": "ubuEg8IslDOs"
      },
      "source": [
        "### **Ejercicio 2.**\n",
        "\n",
        "#### Escribir una función que calcule el área de un círculo y otra que calcule el volumen de un cilindro usando la primera función."
      ]
    },
    {
      "cell_type": "code",
      "metadata": {
        "colab": {
          "base_uri": "https://localhost:8080/"
        },
        "id": "j-PAwenFlIRG",
        "outputId": "709b1e26-c22a-43b3-8aa3-6666eb390d79"
      },
      "source": [
        "# Se define variables\n",
        "pi = 3.1415\n",
        "\n",
        "# Se define la función del área de un circulo\n",
        "def areacirc(radio):\n",
        "  # Se realiza la operación\n",
        "  resul = pi * (radio**2)\n",
        "  return resul\n",
        "\n",
        "# Se define la función del volumen del cilindro\n",
        "def volcilin(radio,altura):\n",
        "  # Se realiza la operación\n",
        "  resul = areacirc(radio) * altura\n",
        "  return resul\n",
        "\n",
        "# Se imprime el resultado del volumen del cilindro\n",
        "print(\"El volumen del cilindro es: \" + str(volcilin(3,5)))\n",
        "# Se imprime el resultado del area del circulo\n",
        "print(\"El área de un círculo es: \" + str(areacirc(5)))"
      ],
      "execution_count": 10,
      "outputs": [
        {
          "output_type": "stream",
          "text": [
            "El volumen del cilindro es: 141.3675\n",
            "El área de un círculo es: 78.53750000000001\n"
          ],
          "name": "stdout"
        }
      ]
    }
  ]
}