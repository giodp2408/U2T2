{
  "nbformat": 4,
  "nbformat_minor": 0,
  "metadata": {
    "colab": {
      "name": "Ejercicio2.ipynb",
      "provenance": [],
      "collapsed_sections": [],
      "authorship_tag": "ABX9TyPzTPl6PD5K0+KcBFvlnwJB",
      "include_colab_link": true
    },
    "kernelspec": {
      "name": "python3",
      "display_name": "Python 3"
    },
    "language_info": {
      "name": "python"
    }
  },
  "cells": [
    {
      "cell_type": "markdown",
      "metadata": {
        "id": "view-in-github",
        "colab_type": "text"
      },
      "source": [
        "<a href=\"https://colab.research.google.com/github/giodp2408/U2T2/blob/main/Ejercicio2.ipynb\" target=\"_parent\"><img src=\"https://colab.research.google.com/assets/colab-badge.svg\" alt=\"Open In Colab\"/></a>"
      ]
    },
    {
      "cell_type": "markdown",
      "metadata": {
        "id": "ubuEg8IslDOs"
      },
      "source": [
        "### **Ejercicio 2.**\n",
        "\n",
        "#### Escribir una función que calcule el área de un círculo y otra que calcule el volumen de un cilindro usando la primera función."
      ]
    },
    {
      "cell_type": "code",
      "metadata": {
        "colab": {
          "base_uri": "https://localhost:8080/"
        },
        "id": "j-PAwenFlIRG",
        "outputId": "0bb77788-4567-48ca-883b-3bb1b9f92498"
      },
      "source": [
        "# Se define variables\n",
        "pi = 3.1415\n",
        "\n",
        "# Se define la función del área de un circulo\n",
        "def areacirc(radio):\n",
        "  # Se realiza la operación\n",
        "  resul = pi * (radio**2)\n",
        "  return resul\n",
        "\n",
        "# Se define la función del volumen del cilindro\n",
        "def volcilin(radio,altura):\n",
        "  # Se realiza la operación\n",
        "  resul = areacirc(radio) * altura\n",
        "  return resul\n",
        "\n",
        "print(\"El volumen del cilindro es: \" + str(volcilin(3,5)))\n",
        "print(\"El área de un círculo es: \" + str(areacirc(5)))"
      ],
      "execution_count": 9,
      "outputs": [
        {
          "output_type": "stream",
          "text": [
            "El volumen del cilindro es: 141.3675\n",
            "El área de un círculo es: 78.53750000000001\n"
          ],
          "name": "stdout"
        }
      ]
    }
  ]
}